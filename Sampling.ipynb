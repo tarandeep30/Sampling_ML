{
  "cells": [
    {
      "cell_type": "code",
      "execution_count": null,
      "id": "7292db86",
      "metadata": {
        "id": "7292db86",
        "outputId": "1352d4e0-e4e4-493f-b27f-7f0e0e400af8"
      },
      "outputs": [
        {
          "data": {
            "text/plain": [
              "(772, 31)"
            ]
          },
          "execution_count": 1,
          "metadata": {},
          "output_type": "execute_result"
        }
      ],
      "source": [
        "import pandas as pd\n",
        "import numpy as np\n",
        "\n",
        "df=pd.read_csv(\"https://raw.githubusercontent.com/AnjulaMehto/Sampling_Assignment/main/Creditcard_data.csv\")\n",
        "df.head()\n",
        "df.shape"
      ]
    },
    {
      "cell_type": "code",
      "execution_count": null,
      "id": "c4eada71",
      "metadata": {
        "id": "c4eada71",
        "outputId": "d59d70b7-4ec8-4f18-a771-86ef3ea9590d"
      },
      "outputs": [
        {
          "name": "stdout",
          "output_type": "stream",
          "text": [
            "Number of 1's in the last column: 9\n",
            "Number of 0's in the last column: 763\n"
          ]
        }
      ],
      "source": [
        "num_ones = (df.iloc[:, -1] == 1).sum()\n",
        "\n",
        "print(f\"Number of 1's in the last column: {num_ones}\")\n",
        "\n",
        "num_zeros = (df.iloc[:, -1] == 0).sum()\n",
        "\n",
        "print(f\"Number of 0's in the last column: {num_zeros}\")\n",
        "# sampled_df = df.sample(n=, random_state=42)"
      ]
    },
    {
      "cell_type": "code",
      "execution_count": null,
      "id": "5a9ee463",
      "metadata": {
        "id": "5a9ee463",
        "outputId": "d114f578-d2a2-49ed-bc39-5fdfc5a2fc0b"
      },
      "outputs": [
        {
          "name": "stdout",
          "output_type": "stream",
          "text": [
            "Requirement already satisfied: imblearn in c:\\users\\acer\\appdata\\local\\programs\\python\\python310\\lib\\site-packages (0.0)\n",
            "Requirement already satisfied: imbalanced-learn in c:\\users\\acer\\appdata\\local\\programs\\python\\python310\\lib\\site-packages (from imblearn) (0.10.1)\n",
            "Requirement already satisfied: scipy>=1.3.2 in c:\\users\\acer\\appdata\\local\\programs\\python\\python310\\lib\\site-packages (from imbalanced-learn->imblearn) (1.8.0)\n",
            "Requirement already satisfied: threadpoolctl>=2.0.0 in c:\\users\\acer\\appdata\\local\\programs\\python\\python310\\lib\\site-packages (from imbalanced-learn->imblearn) (3.1.0)\n",
            "Requirement already satisfied: joblib>=1.1.1 in c:\\users\\acer\\appdata\\local\\programs\\python\\python310\\lib\\site-packages (from imbalanced-learn->imblearn) (1.2.0)\n",
            "Requirement already satisfied: numpy>=1.17.3 in c:\\users\\acer\\appdata\\local\\programs\\python\\python310\\lib\\site-packages (from imbalanced-learn->imblearn) (1.22.3)\n",
            "Requirement already satisfied: scikit-learn>=1.0.2 in c:\\users\\acer\\appdata\\local\\programs\\python\\python310\\lib\\site-packages (from imbalanced-learn->imblearn) (1.1.0)\n",
            "Note: you may need to restart the kernel to use updated packages.\n"
          ]
        },
        {
          "name": "stderr",
          "output_type": "stream",
          "text": [
            "WARNING: You are using pip version 22.0.4; however, version 23.0.1 is available.\n",
            "You should consider upgrading via the 'C:\\Users\\ACER\\AppData\\Local\\Programs\\Python\\Python310\\python.exe -m pip install --upgrade pip' command.\n"
          ]
        }
      ],
      "source": [
        "pip install imblearn"
      ]
    },
    {
      "cell_type": "code",
      "execution_count": null,
      "id": "5ba7cbfb",
      "metadata": {
        "id": "5ba7cbfb",
        "outputId": "035d65f4-2e18-4263-9925-3d78ea8cbc5c"
      },
      "outputs": [
        {
          "data": {
            "text/html": [
              "<div>\n",
              "<style scoped>\n",
              "    .dataframe tbody tr th:only-of-type {\n",
              "        vertical-align: middle;\n",
              "    }\n",
              "\n",
              "    .dataframe tbody tr th {\n",
              "        vertical-align: top;\n",
              "    }\n",
              "\n",
              "    .dataframe thead th {\n",
              "        text-align: right;\n",
              "    }\n",
              "</style>\n",
              "<table border=\"1\" class=\"dataframe\">\n",
              "  <thead>\n",
              "    <tr style=\"text-align: right;\">\n",
              "      <th></th>\n",
              "      <th>Time</th>\n",
              "      <th>V1</th>\n",
              "      <th>V2</th>\n",
              "      <th>V3</th>\n",
              "      <th>V4</th>\n",
              "      <th>V5</th>\n",
              "      <th>V6</th>\n",
              "      <th>V7</th>\n",
              "      <th>V8</th>\n",
              "      <th>V9</th>\n",
              "      <th>...</th>\n",
              "      <th>V21</th>\n",
              "      <th>V22</th>\n",
              "      <th>V23</th>\n",
              "      <th>V24</th>\n",
              "      <th>V25</th>\n",
              "      <th>V26</th>\n",
              "      <th>V27</th>\n",
              "      <th>V28</th>\n",
              "      <th>Amount</th>\n",
              "      <th>Class</th>\n",
              "    </tr>\n",
              "  </thead>\n",
              "  <tbody>\n",
              "    <tr>\n",
              "      <th>0</th>\n",
              "      <td>0</td>\n",
              "      <td>-1.359807</td>\n",
              "      <td>-0.072781</td>\n",
              "      <td>2.536347</td>\n",
              "      <td>1.378155</td>\n",
              "      <td>-0.338321</td>\n",
              "      <td>0.462388</td>\n",
              "      <td>0.239599</td>\n",
              "      <td>0.098698</td>\n",
              "      <td>0.363787</td>\n",
              "      <td>...</td>\n",
              "      <td>-0.018307</td>\n",
              "      <td>0.277838</td>\n",
              "      <td>-0.110474</td>\n",
              "      <td>0.066928</td>\n",
              "      <td>0.128539</td>\n",
              "      <td>-0.189115</td>\n",
              "      <td>0.133558</td>\n",
              "      <td>-0.021053</td>\n",
              "      <td>149.62</td>\n",
              "      <td>0</td>\n",
              "    </tr>\n",
              "    <tr>\n",
              "      <th>1</th>\n",
              "      <td>0</td>\n",
              "      <td>1.191857</td>\n",
              "      <td>0.266151</td>\n",
              "      <td>0.166480</td>\n",
              "      <td>0.448154</td>\n",
              "      <td>0.060018</td>\n",
              "      <td>-0.082361</td>\n",
              "      <td>-0.078803</td>\n",
              "      <td>0.085102</td>\n",
              "      <td>-0.255425</td>\n",
              "      <td>...</td>\n",
              "      <td>-0.225775</td>\n",
              "      <td>-0.638672</td>\n",
              "      <td>0.101288</td>\n",
              "      <td>-0.339846</td>\n",
              "      <td>0.167170</td>\n",
              "      <td>0.125895</td>\n",
              "      <td>-0.008983</td>\n",
              "      <td>0.014724</td>\n",
              "      <td>2.69</td>\n",
              "      <td>1</td>\n",
              "    </tr>\n",
              "    <tr>\n",
              "      <th>2</th>\n",
              "      <td>1</td>\n",
              "      <td>-1.358354</td>\n",
              "      <td>-1.340163</td>\n",
              "      <td>1.773209</td>\n",
              "      <td>0.379780</td>\n",
              "      <td>-0.503198</td>\n",
              "      <td>1.800499</td>\n",
              "      <td>0.791461</td>\n",
              "      <td>0.247676</td>\n",
              "      <td>-1.514654</td>\n",
              "      <td>...</td>\n",
              "      <td>0.247998</td>\n",
              "      <td>0.771679</td>\n",
              "      <td>0.909412</td>\n",
              "      <td>-0.689281</td>\n",
              "      <td>-0.327642</td>\n",
              "      <td>-0.139097</td>\n",
              "      <td>-0.055353</td>\n",
              "      <td>-0.059752</td>\n",
              "      <td>378.66</td>\n",
              "      <td>0</td>\n",
              "    </tr>\n",
              "    <tr>\n",
              "      <th>3</th>\n",
              "      <td>1</td>\n",
              "      <td>-0.966272</td>\n",
              "      <td>-0.185226</td>\n",
              "      <td>1.792993</td>\n",
              "      <td>-0.863291</td>\n",
              "      <td>-0.010309</td>\n",
              "      <td>1.247203</td>\n",
              "      <td>0.237609</td>\n",
              "      <td>0.377436</td>\n",
              "      <td>-1.387024</td>\n",
              "      <td>...</td>\n",
              "      <td>-0.108300</td>\n",
              "      <td>0.005274</td>\n",
              "      <td>-0.190321</td>\n",
              "      <td>-1.175575</td>\n",
              "      <td>0.647376</td>\n",
              "      <td>-0.221929</td>\n",
              "      <td>0.062723</td>\n",
              "      <td>0.061458</td>\n",
              "      <td>123.50</td>\n",
              "      <td>0</td>\n",
              "    </tr>\n",
              "    <tr>\n",
              "      <th>4</th>\n",
              "      <td>2</td>\n",
              "      <td>-1.158233</td>\n",
              "      <td>0.877737</td>\n",
              "      <td>1.548718</td>\n",
              "      <td>0.403034</td>\n",
              "      <td>-0.407193</td>\n",
              "      <td>0.095921</td>\n",
              "      <td>0.592941</td>\n",
              "      <td>-0.270533</td>\n",
              "      <td>0.817739</td>\n",
              "      <td>...</td>\n",
              "      <td>-0.009431</td>\n",
              "      <td>0.798278</td>\n",
              "      <td>-0.137458</td>\n",
              "      <td>0.141267</td>\n",
              "      <td>-0.206010</td>\n",
              "      <td>0.502292</td>\n",
              "      <td>0.219422</td>\n",
              "      <td>0.215153</td>\n",
              "      <td>69.99</td>\n",
              "      <td>0</td>\n",
              "    </tr>\n",
              "  </tbody>\n",
              "</table>\n",
              "<p>5 rows × 31 columns</p>\n",
              "</div>"
            ],
            "text/plain": [
              "   Time        V1        V2        V3        V4        V5        V6        V7  \\\n",
              "0     0 -1.359807 -0.072781  2.536347  1.378155 -0.338321  0.462388  0.239599   \n",
              "1     0  1.191857  0.266151  0.166480  0.448154  0.060018 -0.082361 -0.078803   \n",
              "2     1 -1.358354 -1.340163  1.773209  0.379780 -0.503198  1.800499  0.791461   \n",
              "3     1 -0.966272 -0.185226  1.792993 -0.863291 -0.010309  1.247203  0.237609   \n",
              "4     2 -1.158233  0.877737  1.548718  0.403034 -0.407193  0.095921  0.592941   \n",
              "\n",
              "         V8        V9  ...       V21       V22       V23       V24       V25  \\\n",
              "0  0.098698  0.363787  ... -0.018307  0.277838 -0.110474  0.066928  0.128539   \n",
              "1  0.085102 -0.255425  ... -0.225775 -0.638672  0.101288 -0.339846  0.167170   \n",
              "2  0.247676 -1.514654  ...  0.247998  0.771679  0.909412 -0.689281 -0.327642   \n",
              "3  0.377436 -1.387024  ... -0.108300  0.005274 -0.190321 -1.175575  0.647376   \n",
              "4 -0.270533  0.817739  ... -0.009431  0.798278 -0.137458  0.141267 -0.206010   \n",
              "\n",
              "        V26       V27       V28  Amount  Class  \n",
              "0 -0.189115  0.133558 -0.021053  149.62      0  \n",
              "1  0.125895 -0.008983  0.014724    2.69      1  \n",
              "2 -0.139097 -0.055353 -0.059752  378.66      0  \n",
              "3 -0.221929  0.062723  0.061458  123.50      0  \n",
              "4  0.502292  0.219422  0.215153   69.99      0  \n",
              "\n",
              "[5 rows x 31 columns]"
            ]
          },
          "execution_count": 4,
          "metadata": {},
          "output_type": "execute_result"
        }
      ],
      "source": [
        "from imblearn.over_sampling import SMOTE\n",
        "\n",
        "# read the CSV file into a DataFrame\n",
        "# df = pd.read_csv(\"data.csv\")\n",
        "\n",
        "# separate the features and labels\n",
        "X = df.iloc[:, :-1]\n",
        "y = df.iloc[:, -1]\n",
        "\n",
        "# apply SMOTE to oversample the minority class\n",
        "smote = SMOTE()\n",
        "X_resampled, y_resampled = smote.fit_resample(X, y)\n",
        "\n",
        "# create a new balanced DataFrame\n",
        "df_resampled = pd.concat([X_resampled, y_resampled], axis=1)\n",
        "\n",
        "df_resampled.head()"
      ]
    },
    {
      "cell_type": "code",
      "execution_count": null,
      "id": "e9e92d14",
      "metadata": {
        "id": "e9e92d14",
        "outputId": "4d53b260-43ec-40af-b3da-f176c5ff770a"
      },
      "outputs": [
        {
          "name": "stdout",
          "output_type": "stream",
          "text": [
            "Number of 1's in the last column: 763\n",
            "Number of 0's in the last column: 763\n"
          ]
        }
      ],
      "source": [
        "num_ones = (df_resampled.iloc[:, -1] == 1).sum()\n",
        "\n",
        "print(f\"Number of 1's in the last column: {num_ones}\")\n",
        "\n",
        "num_zeros = (df_resampled.iloc[:, -1] == 0).sum()\n",
        "\n",
        "print(f\"Number of 0's in the last column: {num_zeros}\")\n",
        "# sampled_df = df.sample(n=, random_state=42)"
      ]
    },
    {
      "cell_type": "code",
      "execution_count": null,
      "id": "9d18de38",
      "metadata": {
        "id": "9d18de38",
        "outputId": "1aabd9b3-b2a2-4a98-c551-548602e4e17d"
      },
      "outputs": [
        {
          "name": "stdout",
          "output_type": "stream",
          "text": [
            "Sample size for simple random sampling: 384\n",
            "Sample size for systematic sampling: 382\n"
          ]
        }
      ],
      "source": [
        "from scipy.stats import norm\n",
        "margin_of_error = 0.05\n",
        "confidence_level = 0.95\n",
        "population_size = len(df_resampled)\n",
        "\n",
        "# calculate the standard deviation and the sample size for a simple random sample\n",
        "p = 0.5\n",
        "q = 1 - p\n",
        "std_dev = np.sqrt(p * q)\n",
        "z_score = 1.96\n",
        "simple_sample_size = int(np.round((z_score**2 * p * q) / margin_of_error**2))\n",
        "\n",
        "# calculate the sample size for systematic sampling\n",
        "sampling_interval = np.ceil(population_size / simple_sample_size)\n",
        "systematic_sample_size = int(np.round(population_size / sampling_interval))\n",
        "\n",
        "# print the sample sizes for simple random sampling and systematic sampling\n",
        "print(f'Sample size for simple random sampling: {simple_sample_size}')\n",
        "print(f'Sample size for systematic sampling: {systematic_sample_size}')"
      ]
    },
    {
      "cell_type": "code",
      "execution_count": null,
      "id": "0df11c76",
      "metadata": {
        "id": "0df11c76",
        "outputId": "c768e604-01d9-429c-a96e-07994b6b9930"
      },
      "outputs": [
        {
          "data": {
            "text/plain": [
              "(382, 31)"
            ]
          },
          "execution_count": 7,
          "metadata": {},
          "output_type": "execute_result"
        }
      ],
      "source": [
        "sample_size = 382\n",
        "seed = 42\n",
        "\n",
        "# calculate the sampling interval\n",
        "sampling_interval = int(np.ceil(len(df_resampled) / sample_size))\n",
        "\n",
        "# set the random start index based on the seed\n",
        "start_index = np.random.default_rng(seed=seed).integers(0, sampling_interval)\n",
        "\n",
        "# generate a list of indices for systematic sampling\n",
        "indices = np.arange(start_index, len(df_resampled), sampling_interval)\n",
        "\n",
        "# select the sample using the list of indices\n",
        "sample = df_resampled.iloc[indices]\n",
        "sample.shape"
      ]
    },
    {
      "cell_type": "code",
      "source": [
        "k = 3\n",
        "e = 0.05\n",
        "conf_level = 0.95\n",
        "\n",
        "# calculate the size of each stratum\n",
        "N = len(data)\n",
        "stratum_size = int(np.ceil(N / k))\n",
        "\n",
        "# calculate the sample size for each stratum\n",
        "sample_size = int(np.ceil(((1.96*2) * 0.25) / ((e / 1.645)**2 + (1.96*2) * 0.25) * stratum_size))\n",
        "\n",
        "# calculate the total sample size\n",
        "total_sample_size = sample_size * k\n",
        "\n",
        "# print the sample size for each stratum and the total sample size\n",
        "print(f'Sample size for each stratum: {sample_size}')\n",
        "print(f'Total sample size: {total_sample_size}')"
      ],
      "metadata": {
        "id": "s-xbRik8e8ey"
      },
      "id": "s-xbRik8e8ey",
      "execution_count": null,
      "outputs": []
    },
    {
      "cell_type": "code",
      "source": [
        "import pandas as pd\n",
        "from sklearn.model_selection import StratifiedShuffleSplit\n",
        "\n",
        "# Load dataset\n",
        "data = pd.read_csv('/content/resampled.csv')\n",
        "\n",
        "# Separate features and target variable\n",
        "X = data.drop(columns=['Class'])\n",
        "y = data['Class']\n",
        "\n",
        "# Define the StratifiedShuffleSplit object with the desired parameters\n",
        "sss = StratifiedShuffleSplit(n_splits=2, test_size=0.665, random_state=42)\n",
        "\n",
        "# Use the StratifiedShuffleSplit object to generate a stratified sample\n",
        "for train_index, test_index in sss.split(X, y):\n",
        "    X_train, X_test = X.iloc[train_index], X.iloc[test_index]\n",
        "    y_train, y_test = y.iloc[train_index], y.iloc[test_index]\n",
        "\n",
        "# Save the stratified sample as a new dataset\n",
        "stratified_sample = pd.concat([X_train, y_train], axis=1)\n",
        "stratified_sample.shape\n",
        "# stratified_sample.head()\n",
        "# stratified_sample.tail()\n",
        "\n",
        "# stratified_sample.to_csv('stratified_sample_dataset.csv', index=False)"
      ],
      "metadata": {
        "id": "mGetzs0EfGVZ"
      },
      "id": "mGetzs0EfGVZ",
      "execution_count": null,
      "outputs": []
    },
    {
      "cell_type": "code",
      "source": [
        "#cluster sampling technique\n",
        "import pandas as pd\n",
        "from sklearn.cluster import KMeans\n",
        "\n",
        "# Load the dataset\n",
        "data = pd.read_csv('/content/resampled.csv')\n",
        "\n",
        "# Separate features and target variable\n",
        "X = data.drop(columns=['Class'])\n",
        "y = data['Class']\n",
        "\n",
        "# Perform clustering on the data\n",
        "kmeans = KMeans(n_clusters=3, random_state=42)\n",
        "cluster_labels = kmeans.fit_predict(X)\n",
        "\n",
        "cluster_labels.shape\n",
        "\n",
        "# Calculate the size of each cluster\n",
        "cluster_sizes = []\n",
        "for i in range(3):\n",
        "    cluster_sizes.append(len(X.iloc[np.where(cluster_labels == i)[0]]))\n",
        "\n",
        "# Calculate the total size of the sample\n",
        "total_size = sum(cluster_sizes)\n",
        "\n",
        "# Calculate the proportion of the total population to sample\n",
        "prop = 0.5  # Replace with your desired proportion\n",
        "sample_size = int(prop * total_size)\n",
        "\n",
        "# Calculate the size of each cluster in the sample\n",
        "sample_sizes = []\n",
        "for size in cluster_sizes:\n",
        "    sample_sizes.append(int(size / total_size * sample_size))\n",
        "\n",
        "# Print the sizes of each cluster in the sample\n",
        "print('Cluster sample sizes:', sample_sizes)\n",
        "\n",
        "\n",
        "# Generate the sample dataframe\n",
        "sample = pd.DataFrame(columns=data.columns)\n",
        "for i, size in enumerate(sample_sizes):\n",
        "    cluster_indices = X.iloc[np.where(cluster_labels == i)[0]].index\n",
        "    sample_indices = cluster_indices[:size]\n",
        "    sample = sample.append(data.loc[sample_indices])\n",
        "\n",
        "sample.shape"
      ],
      "metadata": {
        "id": "H2W9lkrJfd8U"
      },
      "id": "H2W9lkrJfd8U",
      "execution_count": null,
      "outputs": []
    }
  ],
  "metadata": {
    "kernelspec": {
      "display_name": "Python 3 (ipykernel)",
      "language": "python",
      "name": "python3"
    },
    "language_info": {
      "codemirror_mode": {
        "name": "ipython",
        "version": 3
      },
      "file_extension": ".py",
      "mimetype": "text/x-python",
      "name": "python",
      "nbconvert_exporter": "python",
      "pygments_lexer": "ipython3",
      "version": "3.10.2"
    },
    "colab": {
      "provenance": []
    }
  },
  "nbformat": 4,
  "nbformat_minor": 5
}